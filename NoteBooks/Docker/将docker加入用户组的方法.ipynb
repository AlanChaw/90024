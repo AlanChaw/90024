{
 "cells": [
  {
   "cell_type": "markdown",
   "metadata": {},
   "source": [
    "## 将docker加入用户组的方法\n",
    "\n",
    "---\n",
    "\n",
    "在平时操作时，需要将`docker`加入用户组，否则所有的`docker`操作都需要以管理员权限执行（即命令需要添加`sudo`），甚至会影响到含有`docker`命令的脚本的执行。\n",
    "\n",
    "**在本机上执行或者登录服务器操作：**\n",
    "\n",
    "```bash\n",
    "sudo groupadd docker\n",
    "sudo usermod -aG docker $USER\n",
    "newgrp docker\n",
    "```\n",
    "\n",
    "**通过`ansible`对远程机器进行操作：**\n",
    "\n",
    "```yaml\n",
    "- name: adding docker users (for use without sudo)\n",
    "  user:\n",
    "    name: \"ubuntu\"\n",
    "    append: yes\n",
    "    groups: docker\n",
    "  become: true\n",
    "  with_items: \"['ubuntu']\"\n",
    "```\n",
    "\n",
    "其中`name: \"ubuntu\"`和`with_items: \"['ubuntu']\"`中的`ubuntu`指的是所登录的用户名。\n"
   ]
  }
 ],
 "metadata": {
  "kernelspec": {
   "display_name": "Python 3",
   "language": "python",
   "name": "python3"
  },
  "language_info": {
   "codemirror_mode": {
    "name": "ipython",
    "version": 3
   },
   "file_extension": ".py",
   "mimetype": "text/x-python",
   "name": "python",
   "nbconvert_exporter": "python",
   "pygments_lexer": "ipython3",
   "version": "3.7.3"
  },
  "toc": {
   "base_numbering": 1,
   "nav_menu": {},
   "number_sections": false,
   "sideBar": true,
   "skip_h1_title": false,
   "title_cell": "Table of Contents",
   "title_sidebar": "Contents",
   "toc_cell": false,
   "toc_position": {},
   "toc_section_display": true,
   "toc_window_display": false
  }
 },
 "nbformat": 4,
 "nbformat_minor": 2
}
