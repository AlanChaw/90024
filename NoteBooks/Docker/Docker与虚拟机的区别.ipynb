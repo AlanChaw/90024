{
 "cells": [
  {
   "cell_type": "markdown",
   "metadata": {},
   "source": [
    "## Docker与虚拟机的区别\n",
    "\n",
    "---\n",
    "\n",
    "### 形象化对比与理解\n",
    "\n",
    "- **物理机**\n",
    "\n",
    "![IMAGE](./images/1556511182/A4CC2370630D14DBB3C98F6DE29CFD0B.jpg)\n",
    "\n",
    "- **虚拟机**\n",
    "\n",
    "![IMAGE](./images/1556511182/B4E114F22B258C4779365950F28D1BBE.jpg)\n",
    "\n",
    "- **Docker**\n",
    "\n",
    "![IMAGE](./images/1556511182/1AA3A054AE44DBD4706458C6948E8727.jpg)\n",
    "\n",
    "---\n",
    "\n",
    "- **虚拟机**\n",
    "\n",
    "我们传统的虚拟机需要模拟整台机器包括硬件，每台虚拟机都需要有自己的操作系统，虚拟机一旦被开启，预分配给他的资源将全部被占用。，每一个虚拟机包括应用，必要的二进制和库，以及一个完整的用户操作系统。\n",
    "\n",
    "![IMAGE](./images/1556511182/ADDB075B29B95A0483EEF5A69BF1EB98.jpg)\n",
    "\n",
    "- **Docker**\n",
    "\n",
    "容器技术是和我们的宿主机共享硬件资源及操作系统可以实现资源的动态分配。容器包含应用和其所有的依赖包，但是与其他容器共享内核。容器在宿主机操作系统中，在用户空间以分离的进程运行。\n",
    "\n",
    "![IMAGE](./images/1556511182/003E91CA2CECE4091646456C243FE953.jpg)\n",
    "\n",
    "1. vm与docker框架，直观上来讲**vm多了一层guest OS，同时Hypervisor会对硬件资源进行虚拟化，docker直接使用硬件资源**，所以资源利用率相对docker低也是比较容易理解的。\n",
    "\n",
    "2. openstack能够以10台/min的速度创建虚拟机，在docker面前就弱爆了，因为docker是利用宿主机的系统内核，所以可以做到在几秒钟之内创建大量容器，它们的**启动速度是在数量级上的差距**。\n",
    "\n",
    "3. IBM测试案例，关于计算能力的，对于kvm为什么会有这么大的性能损失，**一方面是因为虚拟机增加了一层虚拟硬件层**，运行在虚拟机上的应用程序在进行数值计算时是运行在Hypervisor虚拟的CPU上的；**另外一方面是由于计算程序本身的特性导致的差异**。虚拟机虚拟的cpu架构不同于实际cpu架构，数值计算程序一般针对特定的cpu架构有一定的优化措施，虚拟化使这些措施作废，甚至起到反效果。比如对于本次实验的平台，实际的CPU架构是2块物理CPU，每块CPU拥有16个核，共32个核，采用的是NUMA架构；而虚拟机则将CPU虚拟化成一块拥有32个核的CPU。这就导致了计算程序在进行计算时无法根据实际的CPU架构进行优化，大大减低了计算效率。\n",
    "\n",
    "![IMAGE](./images/1556511182/14703E85B28CF74E38447276A8328E49.jpg)\n",
    "\n",
    "---\n",
    "\n",
    "### 具体对比\n",
    "\n",
    "1. docker启动快速属于秒级别。虚拟机通常需要几分钟去启动。\n",
    "2. docker需要的资源更少，docker在操作系统级别进行虚拟化，docker容器和内核交互，几乎没有性能损耗，性能优于通过Hypervisor层与内核层的虚拟化。\n",
    "3. docker更轻量，docker的架构可以共用一个内核与共享应用程序库，所占内存极小。同样的硬件环境，Docker运行的镜像数远多于虚拟机数量。对系统的利用率非常高。\n",
    "4. 与虚拟机相比，docker隔离性更弱，docker属于进程之间的隔离，虚拟机可实现系统级别隔离。\n",
    "5. 安全性：docker的安全性也更弱。Docker的租户root和宿主机root等同，一旦容器内的用户从普通用户权限提升为root权限，它就直接具备了宿主机的root权限，进而可进行无限制的操作。虚拟机租户root权限和宿主机的root虚拟机权限是分离的，并且虚拟机利用如Intel的VT-d和VT-x的ring-1硬件隔离技术，这种隔离技术可以防止虚拟机突破和彼此交互，而容器至今还没有任何形式的硬件隔离，这使得容器容易受到攻击。\n",
    "6. 可管理性：docker的集中化管理工具还不算成熟。各种虚拟化技术都有成熟的管理工具，例如VMware vCenter提供完备的虚拟机管理能力。\n",
    "7. 高可用和可恢复性：docker对业务的高可用支持是通过快速重新部署实现的。虚拟化具备负载均衡，高可用，容错，迁移和数据保护等经过生产实践检验的成熟保障机制，VMware可承诺虚拟机99.999%高可用，保证业务连续性。\n",
    "8. 快速创建、删除：虚拟化创建是分钟级别的，Docker容器创建是秒级别的，Docker的快速迭代性，决定了无论是开发、测试、部署都可以节约大量时间。\n",
    "9. 交付、部署：虚拟机可以通过镜像实现环境交付的一致性，但镜像分发无法体系化；Docker在Dockerfile中记录了容器构建过程，可在集群中实现快速分发和快速部署。\n"
   ]
  }
 ],
 "metadata": {
  "kernelspec": {
   "display_name": "Python 3",
   "language": "python",
   "name": "python3"
  },
  "language_info": {
   "codemirror_mode": {
    "name": "ipython",
    "version": 3
   },
   "file_extension": ".py",
   "mimetype": "text/x-python",
   "name": "python",
   "nbconvert_exporter": "python",
   "pygments_lexer": "ipython3",
   "version": "3.7.1"
  },
  "toc": {
   "base_numbering": 1,
   "nav_menu": {},
   "number_sections": false,
   "sideBar": true,
   "skip_h1_title": false,
   "title_cell": "Table of Contents",
   "title_sidebar": "Contents",
   "toc_cell": false,
   "toc_position": {},
   "toc_section_display": true,
   "toc_window_display": false
  }
 },
 "nbformat": 4,
 "nbformat_minor": 2
}
